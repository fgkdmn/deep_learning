{
  "nbformat": 4,
  "nbformat_minor": 0,
  "metadata": {
    "colab": {
      "provenance": [],
      "collapsed_sections": [],
      "authorship_tag": "ABX9TyOwckvDUN+diDYX8Rbq+b9v",
      "include_colab_link": true
    },
    "kernelspec": {
      "name": "python3",
      "display_name": "Python 3"
    },
    "language_info": {
      "name": "python"
    }
  },
  "cells": [
    {
      "cell_type": "markdown",
      "metadata": {
        "id": "view-in-github",
        "colab_type": "text"
      },
      "source": [
        "<a href=\"https://colab.research.google.com/github/fgkdmn/deep_learning/blob/main/ANN_Uygulama.ipynb\" target=\"_parent\"><img src=\"https://colab.research.google.com/assets/colab-badge.svg\" alt=\"Open In Colab\"/></a>"
      ]
    },
    {
      "cell_type": "markdown",
      "source": [
        "#**ARTIFICAL NEURAL NETWORK(ANN)**\n",
        "\n",
        "1)Business Problem(İş Problemi)\n",
        "\n",
        "2)Data Understanding(Veriyi Anlamak)\n",
        "\n",
        "3)Data Preparation(Veriyi Hazırlama)\n",
        "\n",
        "4)Modelling(Modelleme)\n",
        "\n",
        "5)Evaluation(Değerlendirme)"
      ],
      "metadata": {
        "id": "HmZgDCR1aPcn"
      }
    },
    {
      "cell_type": "markdown",
      "source": [
        "#1)Business Problem(İş Problemi)\n",
        "\n",
        "Problem:İnsan gücü kaynağını daha verimli kullanabilir miyiz?\n",
        "\n",
        "Veri Seti: MNIST(\"Modified National Institute of standards and Technology\")"
      ],
      "metadata": {
        "id": "5Pdz207MIrAN"
      }
    },
    {
      "cell_type": "markdown",
      "source": [
        "#2)Data understanding(Veriyi anlamak)"
      ],
      "metadata": {
        "id": "G5stEKwwIyHA"
      }
    },
    {
      "cell_type": "code",
      "source": [
        "pip install tensorflow"
      ],
      "metadata": {
        "id": "n6wilIZxZI7a"
      },
      "execution_count": null,
      "outputs": []
    },
    {
      "cell_type": "code",
      "source": [
        "import tensorflow as tf\n",
        "from tensorflow.keras.datasets import mnist\n",
        "from tensorflow.keras.models import load_model, Sequential\n",
        "from tensorflow.keras.layers import Dense, Flatten\n",
        "from tensorflow.keras.utils import to_categorical, plot_model\n",
        "\n",
        "import matplotlib.pyplot as plt\n",
        "import numpy as np\n",
        "\n",
        "import warnings\n",
        "from warnings import filterwarnings\n",
        "warnings.filterwarnings(\"ignore\", category=DeprecationWarning)\n",
        "warnings.filterwarnings(\"ignore\", category=FutureWarning)\n",
        "warnings.filterwarnings(\"ignore\", category=UserWarning)\n",
        "filterwarnings(\"ignore\")"
      ],
      "metadata": {
        "id": "lHbxPn1AdVlJ"
      },
      "execution_count": 72,
      "outputs": []
    },
    {
      "cell_type": "code",
      "source": [
        "# MNIST veri setinin yüklenmesi\n",
        "(x_train, y_train), (x_test, y_test) = mnist.load_data()"
      ],
      "metadata": {
        "id": "mnGsnIchJH4N"
      },
      "execution_count": 73,
      "outputs": []
    },
    {
      "cell_type": "code",
      "source": [
        "print(\"Eğitim Seti Boyutu:\" , x_train.shape, y_train.shape)"
      ],
      "metadata": {
        "colab": {
          "base_uri": "https://localhost:8080/"
        },
        "id": "RpPcFk9wJ--B",
        "outputId": "4cfaf70e-0339-4e0a-c56d-5ccf34e5c893"
      },
      "execution_count": 76,
      "outputs": [
        {
          "output_type": "stream",
          "name": "stdout",
          "text": [
            "Eğitim Seti Boyutu: (60000, 28, 28) (60000,)\n"
          ]
        }
      ]
    },
    {
      "cell_type": "code",
      "source": [
        "print(\"Test Seti Boyutu:\" , x_test.shape, y_test.shape)"
      ],
      "metadata": {
        "colab": {
          "base_uri": "https://localhost:8080/"
        },
        "id": "Sg_cJ_k_LBFc",
        "outputId": "85630957-beae-4ef3-c9f9-69fe644f5f7f"
      },
      "execution_count": 77,
      "outputs": [
        {
          "output_type": "stream",
          "name": "stdout",
          "text": [
            "Test Seti Boyutu: (10000, 28, 28) (10000,)\n"
          ]
        }
      ]
    },
    {
      "cell_type": "code",
      "source": [
        "num_labels = len(np.unique(y_train))"
      ],
      "metadata": {
        "id": "b4g858dfLWfo"
      },
      "execution_count": 78,
      "outputs": []
    },
    {
      "cell_type": "code",
      "source": [
        "# Veri setinden Örnekler Gösterilmesi\n",
        "plt.figure(figsize= (10,10))\n",
        "plt.imshow(x_train[2], cmap=\"gray\")"
      ],
      "metadata": {
        "colab": {
          "base_uri": "https://localhost:8080/",
          "height": 609
        },
        "id": "YRiT72KdLv9W",
        "outputId": "3cea8c59-2e68-4e68-e0ab-929959f4c0c2"
      },
      "execution_count": 79,
      "outputs": [
        {
          "output_type": "execute_result",
          "data": {
            "text/plain": [
              "<matplotlib.image.AxesImage at 0x7f09a9603450>"
            ]
          },
          "metadata": {},
          "execution_count": 79
        },
        {
          "output_type": "display_data",
          "data": {
            "text/plain": [
              "<Figure size 720x720 with 1 Axes>"
            ],
            "image/png": "[encoded data removed]"
          },
          "metadata": {
            "needs_background": "light"
          }
        }
      ]
    },
    {
      "cell_type": "code",
      "source": [
        "plt.figure(figsize= (10,10))\n",
        "for n in range(10):\n",
        "  ax = plt.subplot(5,5,n+1)\n",
        "  plt.imshow(x_train[n], cmap= \"gray\")\n",
        "  plt.axis(\"off\")\n"
      ],
      "metadata": {
        "colab": {
          "base_uri": "https://localhost:8080/",
          "height": 237
        },
        "id": "C2S1VUbvMnQp",
        "outputId": "d1a7a1bb-2bd6-4e87-d046-5f5c7f8e235e"
      },
      "execution_count": 80,
      "outputs": [
        {
          "output_type": "display_data",
          "data": {
            "text/plain": [
              "<Figure size 720x720 with 10 Axes>"
            ],
            "image/png": "[encoded data removed]"
          },
          "metadata": {
            "needs_background": "light"
          }
        }
      ]
    },
    {
      "cell_type": "code",
      "source": [
        "#Fonksiyon olarak tanımlama\n",
        "def visulaze_img(data):\n",
        "  plt.figure(figsize= (10,10))\n",
        "  for n in range(10):\n",
        "    ax = plt.subplot(5,5,n+1)\n",
        "    plt.imshow(x_train[n], cmap= \"gray\")\n",
        "    plt.axis(\"off\")"
      ],
      "metadata": {
        "id": "nFiXyYldPCuu"
      },
      "execution_count": 81,
      "outputs": []
    },
    {
      "cell_type": "code",
      "source": [
        "visulaze_img(x_train)"
      ],
      "metadata": {
        "colab": {
          "base_uri": "https://localhost:8080/",
          "height": 237
        },
        "id": "8R4UdtdtRTDU",
        "outputId": "05f4e6c3-8551-4206-99e0-1c9801a74d8a"
      },
      "execution_count": 82,
      "outputs": [
        {
          "output_type": "display_data",
          "data": {
            "text/plain": [
              "<Figure size 720x720 with 10 Axes>"
            ],
            "image/png": "[encoded data removed]"
          },
          "metadata": {
            "needs_background": "light"
          }
        }
      ]
    },
    {
      "cell_type": "code",
      "source": [
        "#RGB(0-255)\n",
        "#Black(0) ------> White(255)\n"
      ],
      "metadata": {
        "id": "di1I3-xbRhWr"
      },
      "execution_count": 83,
      "outputs": []
    },
    {
      "cell_type": "code",
      "source": [
        "x_train[2].shape"
      ],
      "metadata": {
        "colab": {
          "base_uri": "https://localhost:8080/"
        },
        "id": "NsGXJIRoTXoB",
        "outputId": "bfcc04f0-72bf-4cc3-e593-dd1e72bbeb0f"
      },
      "execution_count": 84,
      "outputs": [
        {
          "output_type": "execute_result",
          "data": {
            "text/plain": [
              "(28, 28)"
            ]
          },
          "metadata": {},
          "execution_count": 84
        }
      ]
    },
    {
      "cell_type": "code",
      "source": [
        "x_train[2][14:20, 10:20]"
      ],
      "metadata": {
        "colab": {
          "base_uri": "https://localhost:8080/"
        },
        "id": "MrwtCxe3T46L",
        "outputId": "153f964d-bfe9-44dd-b253-1ae9629b8dbb"
      },
      "execution_count": 85,
      "outputs": [
        {
          "output_type": "execute_result",
          "data": {
            "text/plain": [
              "array([[ 49, 116, 144, 150, 241, 243, 234, 179, 241, 252],\n",
              "       [254, 250, 240, 198, 143,  91,  28,   5, 233, 250],\n",
              "       [ 98,  56,   0,   0,   0,   0,   0, 102, 254, 220],\n",
              "       [  0,   0,   0,   0,   0,   0,   0, 169, 254, 137],\n",
              "       [  0,   0,   0,   0,   0,   0,   0, 169, 254,  57],\n",
              "       [  0,   0,   0,   0,   0,   0,   0, 169, 254,  57]], dtype=uint8)"
            ]
          },
          "metadata": {},
          "execution_count": 85
        }
      ]
    },
    {
      "cell_type": "code",
      "source": [
        "x_train[2][14:20, 10:20].mean()"
      ],
      "metadata": {
        "colab": {
          "base_uri": "https://localhost:8080/"
        },
        "id": "bA3d3LRfUYmg",
        "outputId": "9f2ab733-9c2e-45b8-fa73-9b573f3b3e85"
      },
      "execution_count": 86,
      "outputs": [
        {
          "output_type": "execute_result",
          "data": {
            "text/plain": [
              "96.51666666666667"
            ]
          },
          "metadata": {},
          "execution_count": 86
        }
      ]
    },
    {
      "cell_type": "code",
      "source": [
        "# Görseli oluşturan sayıları, görsel üzerine koymak için paylaşılan fonksiyon"
      ],
      "metadata": {
        "id": "HY1UyJH_Ulub"
      },
      "execution_count": 87,
      "outputs": []
    },
    {
      "cell_type": "code",
      "source": [
        "def pixel_visualize(img):\n",
        "  fig = plt.figure(figsize=(12,12))\n",
        "  ax = fig.add_subplot(111)\n",
        "  ax.imshow(img, cmap= \"gray\")\n",
        "  width, height = img.shape\n",
        "\n",
        "  threshold = img.max() / 2.5\n",
        "  \n",
        "  for x in range (width):\n",
        "    for y in range (height):\n",
        "\n",
        "      ax.annotate(str(round(img[x][y], 2)), xy=(y,x),\n",
        "                  color= \"white\" if img[x][y]<threshold else \"black\")"
      ],
      "metadata": {
        "id": "9bFDJslcVJTp"
      },
      "execution_count": 88,
      "outputs": []
    },
    {
      "cell_type": "code",
      "source": [
        "pixel_visualize(x_train[2])"
      ],
      "metadata": {
        "colab": {
          "base_uri": "https://localhost:8080/",
          "height": 700
        },
        "id": "GYWy2kUMV6AR",
        "outputId": "fb45a4b4-4db0-4b27-b508-69deaf224c6c"
      },
      "execution_count": 89,
      "outputs": [
        {
          "output_type": "display_data",
          "data": {
            "text/plain": [
              "<Figure size 864x864 with 1 Axes>"
            ],
            "image/png": "[encoded data removed]"
          },
          "metadata": {
            "needs_background": "light"
          }
        }
      ]
    },
    {
      "cell_type": "markdown",
      "source": [
        "#3)Data Preparation(Veriyi Hazırlama)"
      ],
      "metadata": {
        "id": "VYx41_KbaOFU"
      }
    },
    {
      "cell_type": "markdown",
      "source": [
        "##Encoding"
      ],
      "metadata": {
        "id": "mLO2qZn7cmbM"
      }
    },
    {
      "cell_type": "code",
      "source": [
        "y_train[0:5]"
      ],
      "metadata": {
        "colab": {
          "base_uri": "https://localhost:8080/"
        },
        "id": "0-z_c_ybdjQE",
        "outputId": "b74c4e95-4b88-42e9-bdeb-09535e4103ec"
      },
      "execution_count": 90,
      "outputs": [
        {
          "output_type": "execute_result",
          "data": {
            "text/plain": [
              "array([5, 0, 4, 1, 9], dtype=uint8)"
            ]
          },
          "metadata": {},
          "execution_count": 90
        }
      ]
    },
    {
      "cell_type": "code",
      "source": [
        "y_train= to_categorical(y_train)\n",
        "y_test= to_categorical(y_test)"
      ],
      "metadata": {
        "id": "nn1e5AhNdCr0"
      },
      "execution_count": 91,
      "outputs": []
    },
    {
      "cell_type": "code",
      "source": [
        "y_train[0:5]"
      ],
      "metadata": {
        "colab": {
          "base_uri": "https://localhost:8080/"
        },
        "id": "JrQEsN5Hcou1",
        "outputId": "4084d2eb-b14e-4462-c3e4-7151fdbefc87"
      },
      "execution_count": 92,
      "outputs": [
        {
          "output_type": "execute_result",
          "data": {
            "text/plain": [
              "array([[0., 0., 0., 0., 0., 1., 0., 0., 0., 0.],\n",
              "       [1., 0., 0., 0., 0., 0., 0., 0., 0., 0.],\n",
              "       [0., 0., 0., 0., 1., 0., 0., 0., 0., 0.],\n",
              "       [0., 1., 0., 0., 0., 0., 0., 0., 0., 0.],\n",
              "       [0., 0., 0., 0., 0., 0., 0., 0., 0., 1.]], dtype=float32)"
            ]
          },
          "metadata": {},
          "execution_count": 92
        }
      ]
    },
    {
      "cell_type": "markdown",
      "source": [
        "##Reshaping"
      ],
      "metadata": {
        "id": "JkkR6rLxeQfr"
      }
    },
    {
      "cell_type": "code",
      "source": [
        "image_size = x_train.shape[1]"
      ],
      "metadata": {
        "id": "REvmpMXIctw3"
      },
      "execution_count": 93,
      "outputs": []
    },
    {
      "cell_type": "code",
      "source": [
        "image_size"
      ],
      "metadata": {
        "colab": {
          "base_uri": "https://localhost:8080/"
        },
        "id": "9waFaqTcfIcH",
        "outputId": "e77335f3-801a-4272-8ccf-bac61fec9afd"
      },
      "execution_count": 94,
      "outputs": [
        {
          "output_type": "execute_result",
          "data": {
            "text/plain": [
              "28"
            ]
          },
          "metadata": {},
          "execution_count": 94
        }
      ]
    },
    {
      "cell_type": "code",
      "source": [
        "print(f\"x_train.shape{x_train.shape}\")\n",
        "print(f\"x_test.shape{x_test.shape}\")"
      ],
      "metadata": {
        "colab": {
          "base_uri": "https://localhost:8080/"
        },
        "id": "2_wbRRkXfN_r",
        "outputId": "9d3b8e5b-1a3b-40d4-93eb-9933299aa2af"
      },
      "execution_count": 97,
      "outputs": [
        {
          "output_type": "stream",
          "name": "stdout",
          "text": [
            "x_train.shape(60000, 28, 28)\n",
            "x_test.shape(10000, 28, 28)\n"
          ]
        }
      ]
    },
    {
      "cell_type": "code",
      "source": [
        "x_train = x_train.reshape(x_train.shape[0], 28, 28, 1)\n",
        "x_test = x_test.reshape(x_test.shape[0], 28, 28, 1)\n",
        "\n",
        "\n",
        "print(f\"x_train.shape{x_train.shape}\")\n",
        "print(f\"x_test.shape{x_test.shape}\")\n"
      ],
      "metadata": {
        "colab": {
          "base_uri": "https://localhost:8080/"
        },
        "id": "em0Yk8B1gEDw",
        "outputId": "7b871609-559a-473b-f52e-8931c576222e"
      },
      "execution_count": 98,
      "outputs": [
        {
          "output_type": "stream",
          "name": "stdout",
          "text": [
            "x_train.shape(60000, 28, 28, 1)\n",
            "x_test.shape(10000, 28, 28, 1)\n"
          ]
        }
      ]
    },
    {
      "cell_type": "markdown",
      "source": [
        "##Standardization"
      ],
      "metadata": {
        "id": "CZbhHm37ismk"
      }
    },
    {
      "cell_type": "code",
      "source": [
        "x_train = x_train.astype(\"float32\") / 255\n",
        "x_test = x_test.astype(\"float32\") / 255"
      ],
      "metadata": {
        "id": "zLzzLyN8ihZl"
      },
      "execution_count": 99,
      "outputs": []
    },
    {
      "cell_type": "markdown",
      "source": [
        "#4)Modelling(Modelleme)"
      ],
      "metadata": {
        "id": "gY4hKAy6js-r"
      }
    },
    {
      "cell_type": "markdown",
      "source": [
        "##Sinir ağı mimarisi tanımlamak"
      ],
      "metadata": {
        "id": "saBiz7gtkEDV"
      }
    },
    {
      "cell_type": "code",
      "source": [
        "# layer1 katmanında units=128 seçilme nedeni yaygın kullanım olduğundan dolayı bu şekilde seçilmiştir. Farklı değerler denenebilir.\n",
        "# Aktivasyon fonksiyonu seçimlerinde ise gizli katmanda(hidden layer) kullanılması gereken fonksiyon \"relu\" fonksiyonudur.\n",
        "# output_layer(Çıktı katmanı) katmanında ise çok sınıflı bir sınıfladırma görevimiz olduğundan dolayı aktivasyon fonksiyonu \"softmax\" seçilmiştir.\n",
        "# Eğer iki sınıflı bir sınıflandırma projesi olsaydı o zaman \"sigmoid\" fonksiyonu seçilirdi.\n",
        "\n",
        "model = tf.keras.Sequential([\n",
        "    Flatten(input_shape=(28,28,1)),\n",
        "    Dense(units=128, activation=\"relu\" , name= \"layer1\"),\n",
        "    Dense(units=num_labels, activation=\"softmax\", name=\"output_layer\")])\n",
        "\n",
        "\n",
        "# Optimize edilmesi gereken kayıp fonksiyonu(loss) çok sınıflı bir sınıflandırma problemi olduğu için \"categorical_crossentropy\" seçilmiştir.\n",
        "# Optimize edilmesi gereken kayıp fonksiyonunu minimize edecek algoritma \"adam\" seçilmiştir. Farklı algoritmalar denenebilir.\n",
        "# loss fonksiyonunu minimize ederken gideceğimiz yönü hata metriklerine bakarak belirleyebiliriz.\n",
        "# Yapmış olduğumuz sınıflandırmanın başarısını birkaç metrikle birlikte değerlendirmiş olucağız.\n",
        "# Başarı değerlendirme metrikleri ise \"Precision\", \"RECALL\" ve \"Accuracyy\" \n",
        "\n",
        "model.compile(loss= \"categorical_crossentropy\",\n",
        "              optimizer= \"adam\",\n",
        "              metrics=[tf.keras.metrics.Precision(), tf.keras.metrics.Recall(), \"accuracy\"])"
      ],
      "metadata": {
        "id": "rGp7F_FljjzE"
      },
      "execution_count": 103,
      "outputs": []
    },
    {
      "cell_type": "code",
      "source": [
        "model.summary()"
      ],
      "metadata": {
        "colab": {
          "base_uri": "https://localhost:8080/"
        },
        "id": "TvIvFWuJqeDd",
        "outputId": "072c02d5-857d-4008-d1b9-d4f97cf26407"
      },
      "execution_count": 104,
      "outputs": [
        {
          "output_type": "stream",
          "name": "stdout",
          "text": [
            "Model: \"sequential_3\"\n",
            "_________________________________________________________________\n",
            " Layer (type)                Output Shape              Param #   \n",
            "=================================================================\n",
            " flatten_3 (Flatten)         (None, 784)               0         \n",
            "                                                                 \n",
            " layer1 (Dense)              (None, 128)               100480    \n",
            "                                                                 \n",
            " output_layer (Dense)        (None, 10)                1290      \n",
            "                                                                 \n",
            "=================================================================\n",
            "Total params: 101,770\n",
            "Trainable params: 101,770\n",
            "Non-trainable params: 0\n",
            "_________________________________________________________________\n"
          ]
        }
      ]
    },
    {
      "cell_type": "code",
      "source": [
        "# epochs optimizasyon,iterasyon sayısı olarak düşünülebilir, epochs=10 yaklaşık olarak belirlendi, farklı epochs sayıları verilerek başarı tekrar değerlendirilebilir.\n",
        "# batch_size=128 ise optimizasyon işlemleri sırasında gradyan hesaplarında veri setindeki bütün gözlem birimlerimi her epoch da göz önünde mi bulundurulsun?\n",
        "# Yoksa belirli sayıda alt küme seçelim rastgele bu alt küme üzerinden ağırlık güncellemeleri mi gerçekleştirsin?\n",
        "# Sorularına yanıt olarak \"batch size= 128\" girilmiş.\n",
        "# Yani her iterasyonda 128 tane gözlem birimine odaklanarak ilgili optimizasyon yöntemine dayalı olarak gradyanlar,türevler hesaplanacak ve bir sonraki \"epoch\" a geçilecek.\n",
        "\n",
        "model.fit(x_train, y_train, epochs=10, batch_size=128, validation_data=(x_test, y_test))"
      ],
      "metadata": {
        "colab": {
          "base_uri": "https://localhost:8080/"
        },
        "id": "Z9OM2foaw4vc",
        "outputId": "858954b3-d495-4f73-ce0f-1fbd31a31944"
      },
      "execution_count": 107,
      "outputs": [
        {
          "output_type": "stream",
          "name": "stdout",
          "text": [
            "Epoch 1/10\n",
            "469/469 [==============================] - 3s 6ms/step - loss: 0.0262 - precision_1: 0.9942 - recall_1: 0.9917 - accuracy: 0.9930 - val_loss: 0.0713 - val_precision_1: 0.9793 - val_recall_1: 0.9766 - val_accuracy: 0.9781\n",
            "Epoch 2/10\n",
            "469/469 [==============================] - 3s 6ms/step - loss: 0.0223 - precision_1: 0.9951 - recall_1: 0.9932 - accuracy: 0.9943 - val_loss: 0.0702 - val_precision_1: 0.9803 - val_recall_1: 0.9773 - val_accuracy: 0.9782\n",
            "Epoch 3/10\n",
            "469/469 [==============================] - 3s 6ms/step - loss: 0.0189 - precision_1: 0.9960 - recall_1: 0.9948 - accuracy: 0.9954 - val_loss: 0.0722 - val_precision_1: 0.9793 - val_recall_1: 0.9770 - val_accuracy: 0.9782\n",
            "Epoch 4/10\n",
            "469/469 [==============================] - 3s 6ms/step - loss: 0.0158 - precision_1: 0.9969 - recall_1: 0.9956 - accuracy: 0.9963 - val_loss: 0.0750 - val_precision_1: 0.9805 - val_recall_1: 0.9773 - val_accuracy: 0.9781\n",
            "Epoch 5/10\n",
            "469/469 [==============================] - 3s 6ms/step - loss: 0.0134 - precision_1: 0.9975 - recall_1: 0.9968 - accuracy: 0.9972 - val_loss: 0.0701 - val_precision_1: 0.9812 - val_recall_1: 0.9787 - val_accuracy: 0.9796\n",
            "Epoch 6/10\n",
            "469/469 [==============================] - 3s 7ms/step - loss: 0.0121 - precision_1: 0.9976 - recall_1: 0.9969 - accuracy: 0.9973 - val_loss: 0.0787 - val_precision_1: 0.9791 - val_recall_1: 0.9759 - val_accuracy: 0.9777\n",
            "Epoch 7/10\n",
            "469/469 [==============================] - 3s 7ms/step - loss: 0.0100 - precision_1: 0.9981 - recall_1: 0.9976 - accuracy: 0.9979 - val_loss: 0.0716 - val_precision_1: 0.9812 - val_recall_1: 0.9787 - val_accuracy: 0.9798\n",
            "Epoch 8/10\n",
            "469/469 [==============================] - 3s 6ms/step - loss: 0.0080 - precision_1: 0.9986 - recall_1: 0.9983 - accuracy: 0.9985 - val_loss: 0.0718 - val_precision_1: 0.9817 - val_recall_1: 0.9796 - val_accuracy: 0.9804\n",
            "Epoch 9/10\n",
            "469/469 [==============================] - 3s 6ms/step - loss: 0.0068 - precision_1: 0.9990 - recall_1: 0.9988 - accuracy: 0.9989 - val_loss: 0.0732 - val_precision_1: 0.9815 - val_recall_1: 0.9794 - val_accuracy: 0.9806\n",
            "Epoch 10/10\n",
            "469/469 [==============================] - 3s 6ms/step - loss: 0.0068 - precision_1: 0.9988 - recall_1: 0.9986 - accuracy: 0.9987 - val_loss: 0.0747 - val_precision_1: 0.9817 - val_recall_1: 0.9797 - val_accuracy: 0.9805\n"
          ]
        },
        {
          "output_type": "execute_result",
          "data": {
            "text/plain": [
              "<keras.callbacks.History at 0x7f09a0198550>"
            ]
          },
          "metadata": {},
          "execution_count": 107
        }
      ]
    },
    {
      "cell_type": "markdown",
      "source": [
        "#5)Evaluation( Model Başarısını Değerlendirme)"
      ],
      "metadata": {
        "id": "saZk-rW011w_"
      }
    },
    {
      "cell_type": "code",
      "source": [
        "history= model.fit(x_train, y_train, epochs=10, batch_size=128, validation_data=(x_test, y_test))"
      ],
      "metadata": {
        "colab": {
          "base_uri": "https://localhost:8080/"
        },
        "id": "Wf5LQ3Qq0dBl",
        "outputId": "ca2f2e38-b0a3-4c32-a1af-6652c97d24fd"
      },
      "execution_count": 108,
      "outputs": [
        {
          "output_type": "stream",
          "name": "stdout",
          "text": [
            "Epoch 1/10\n",
            "469/469 [==============================] - 4s 8ms/step - loss: 0.0054 - precision_1: 0.9992 - recall_1: 0.9990 - accuracy: 0.9991 - val_loss: 0.0822 - val_precision_1: 0.9810 - val_recall_1: 0.9789 - val_accuracy: 0.9795\n",
            "Epoch 2/10\n",
            "469/469 [==============================] - 3s 7ms/step - loss: 0.0059 - precision_1: 0.9991 - recall_1: 0.9988 - accuracy: 0.9990 - val_loss: 0.0893 - val_precision_1: 0.9795 - val_recall_1: 0.9781 - val_accuracy: 0.9785\n",
            "Epoch 3/10\n",
            "469/469 [==============================] - 3s 6ms/step - loss: 0.0048 - precision_1: 0.9992 - recall_1: 0.9991 - accuracy: 0.9992 - val_loss: 0.0819 - val_precision_1: 0.9804 - val_recall_1: 0.9784 - val_accuracy: 0.9792\n",
            "Epoch 4/10\n",
            "469/469 [==============================] - 3s 6ms/step - loss: 0.0030 - precision_1: 0.9998 - recall_1: 0.9998 - accuracy: 0.9998 - val_loss: 0.0804 - val_precision_1: 0.9811 - val_recall_1: 0.9797 - val_accuracy: 0.9802\n",
            "Epoch 5/10\n",
            "469/469 [==============================] - 3s 6ms/step - loss: 0.0021 - precision_1: 0.9999 - recall_1: 0.9998 - accuracy: 0.9998 - val_loss: 0.0841 - val_precision_1: 0.9812 - val_recall_1: 0.9797 - val_accuracy: 0.9801\n",
            "Epoch 6/10\n",
            "469/469 [==============================] - 3s 6ms/step - loss: 0.0025 - precision_1: 0.9998 - recall_1: 0.9997 - accuracy: 0.9997 - val_loss: 0.0924 - val_precision_1: 0.9796 - val_recall_1: 0.9780 - val_accuracy: 0.9787\n",
            "Epoch 7/10\n",
            "469/469 [==============================] - 3s 6ms/step - loss: 0.0089 - precision_1: 0.9974 - recall_1: 0.9971 - accuracy: 0.9972 - val_loss: 0.0901 - val_precision_1: 0.9790 - val_recall_1: 0.9776 - val_accuracy: 0.9781\n",
            "Epoch 8/10\n",
            "469/469 [==============================] - 3s 5ms/step - loss: 0.0037 - precision_1: 0.9994 - recall_1: 0.9993 - accuracy: 0.9993 - val_loss: 0.1032 - val_precision_1: 0.9780 - val_recall_1: 0.9764 - val_accuracy: 0.9771\n",
            "Epoch 9/10\n",
            "469/469 [==============================] - 3s 6ms/step - loss: 0.0019 - precision_1: 0.9998 - recall_1: 0.9998 - accuracy: 0.9998 - val_loss: 0.0858 - val_precision_1: 0.9810 - val_recall_1: 0.9799 - val_accuracy: 0.9799\n",
            "Epoch 10/10\n",
            "469/469 [==============================] - 3s 6ms/step - loss: 8.7378e-04 - precision_1: 1.0000 - recall_1: 1.0000 - accuracy: 1.0000 - val_loss: 0.0859 - val_precision_1: 0.9821 - val_recall_1: 0.9808 - val_accuracy: 0.9812\n"
          ]
        }
      ]
    },
    {
      "cell_type": "code",
      "source": [
        "#############################\n",
        "# Accuracy ve Loss Grafikleri\n",
        "#############################\n",
        "\n",
        "#---------------------------- Grafik 1 Accuracy ----------------------------\n",
        "\n",
        "plt.figure(figsize=(20,5))\n",
        "plt.subplot(1,2,1)\n",
        "plt.plot(history.history[\"accuracy\"], color=\"b\", label=\"Training Accuracy\")\n",
        "plt.plot(history.history[\"val_accuracy\"], color=\"r\", label=\"Validation Accuracy\")\n",
        "plt.legend(loc=\"lower right\")\n",
        "plt.xlabel(\"Epochs\", fontsize=16)\n",
        "plt.ylabel(\"Accuracy\", fontsize=16)\n",
        "plt.ylim([min(plt.ylim()), 1])\n",
        "plt.title(\"Eğitim ve Test Başarım Grafiği\", fontsize=16)\n",
        "\n",
        "#---------------------------- Grafik 2 Loss ----------------------------\n",
        "\n",
        "plt.subplot(1,2,2)\n",
        "plt.plot(history.history[\"loss\"], color=\"b\", label=\"Training Loss\")\n",
        "plt.plot(history.history[\"val_accuracy\"], color=\"r\", label=\"Validation Loss\")\n",
        "plt.legend(loc=\"upper right\")\n",
        "plt.xlabel(\"Epochs\", fontsize=16)\n",
        "plt.ylabel(\"Loss\", fontsize=16)\n",
        "plt.ylim([0,max(plt.ylim())])\n",
        "plt.title(\"Eğitim ve Test Kayıp Grafiği\", fontsize=16)\n",
        "plt.show()\n",
        "\n"
      ],
      "metadata": {
        "colab": {
          "base_uri": "https://localhost:8080/",
          "height": 358
        },
        "id": "vZCSAQHU2M9x",
        "outputId": "55473279-0e66-44f2-ce68-e63e88fb1780"
      },
      "execution_count": 112,
      "outputs": [
        {
          "output_type": "display_data",
          "data": {
            "text/plain": [
              "<Figure size 1440x360 with 2 Axes>"
            ],
            "image/png": "[encoded data removed]"
          },
          "metadata": {
            "needs_background": "light"
          }
        }
      ]
    },
    {
      "cell_type": "code",
      "source": [
        "loss, precision, recall, acc = model.evaluate(x_test,y_test, verbose=False)\n",
        "print(\"Test Accuracy: %.1f%%\" % (100.0 * acc))\n",
        "print(\"Test Loss: %.1f%%\" % (100.0 * loss))\n",
        "print(\"Test Precision: %.1f%%\" % (100.0 * precision))\n",
        "print(\"Test Recall: %.1f%%\" % (100.0 * recall))"
      ],
      "metadata": {
        "colab": {
          "base_uri": "https://localhost:8080/"
        },
        "id": "r2V_sSre6qn1",
        "outputId": "15da8dfd-389c-4856-9947-8e3543234423"
      },
      "execution_count": 115,
      "outputs": [
        {
          "output_type": "stream",
          "name": "stdout",
          "text": [
            "Test Accuracy: 97.9%\n",
            "Test Loss: 11.8%\n",
            "Test Precision: 97.9%\n",
            "Test Recall: 97.8%\n"
          ]
        }
      ]
    },
    {
      "cell_type": "markdown",
      "source": [
        "# Modelin Kaydedilmesi ve Tahmin için Kullanılması"
      ],
      "metadata": {
        "id": "zD60RCxS96X3"
      }
    },
    {
      "cell_type": "code",
      "source": [
        "model.save(\"mnsit_model.h5\")"
      ],
      "metadata": {
        "id": "QkL8MP5M95K8"
      },
      "execution_count": 116,
      "outputs": []
    },
    {
      "cell_type": "code",
      "source": [
        "import random\n",
        "\n",
        "random = random.randint(0, x_test.shape[0])"
      ],
      "metadata": {
        "id": "q29DfX8i-g_1"
      },
      "execution_count": 118,
      "outputs": []
    },
    {
      "cell_type": "code",
      "source": [
        "random"
      ],
      "metadata": {
        "colab": {
          "base_uri": "https://localhost:8080/"
        },
        "id": "0fi8bs2C-j-w",
        "outputId": "bd0d2a30-53be-48d2-bc50-8baf8c0bc457"
      },
      "execution_count": 119,
      "outputs": [
        {
          "output_type": "execute_result",
          "data": {
            "text/plain": [
              "6801"
            ]
          },
          "metadata": {},
          "execution_count": 119
        }
      ]
    },
    {
      "cell_type": "code",
      "source": [
        "test_image = x_test[random]"
      ],
      "metadata": {
        "id": "Ry9nBYL5-yaP"
      },
      "execution_count": 120,
      "outputs": []
    },
    {
      "cell_type": "code",
      "source": [
        "y_test[random]"
      ],
      "metadata": {
        "colab": {
          "base_uri": "https://localhost:8080/"
        },
        "id": "acuwQHok_Xam",
        "outputId": "38b32a64-efa3-4a39-8033-77ba4e44f2da"
      },
      "execution_count": 121,
      "outputs": [
        {
          "output_type": "execute_result",
          "data": {
            "text/plain": [
              "array([0., 0., 0., 1., 0., 0., 0., 0., 0., 0.], dtype=float32)"
            ]
          },
          "metadata": {},
          "execution_count": 121
        }
      ]
    },
    {
      "cell_type": "code",
      "source": [
        "plt.imshow(test_image.reshape(28,28), cmap=\"gray\")"
      ],
      "metadata": {
        "colab": {
          "base_uri": "https://localhost:8080/",
          "height": 282
        },
        "id": "YTh8PiNL_cVR",
        "outputId": "d9b265ab-f8f1-4374-91de-8f72ce5a2be5"
      },
      "execution_count": 122,
      "outputs": [
        {
          "output_type": "execute_result",
          "data": {
            "text/plain": [
              "<matplotlib.image.AxesImage at 0x7f09a014dcd0>"
            ]
          },
          "metadata": {},
          "execution_count": 122
        },
        {
          "output_type": "display_data",
          "data": {
            "text/plain": [
              "<Figure size 432x288 with 1 Axes>"
            ],
            "image/png": "[encoded data removed]"
          },
          "metadata": {
            "needs_background": "light"
          }
        }
      ]
    },
    {
      "cell_type": "code",
      "source": [
        "test_data = x_test[random].reshape(1,28,28,1)\n",
        "\n",
        "probability=model.predict(test_data)"
      ],
      "metadata": {
        "colab": {
          "base_uri": "https://localhost:8080/"
        },
        "id": "ynucCnHl_8sD",
        "outputId": "a8f78f27-4775-42b3-fc0d-958bc3f238e3"
      },
      "execution_count": 129,
      "outputs": [
        {
          "output_type": "stream",
          "name": "stdout",
          "text": [
            "1/1 [==============================] - 0s 24ms/step\n"
          ]
        }
      ]
    },
    {
      "cell_type": "code",
      "source": [
        "probability"
      ],
      "metadata": {
        "colab": {
          "base_uri": "https://localhost:8080/"
        },
        "id": "_TAxRIKWAegj",
        "outputId": "9deaafe0-fdb5-45dc-f6f6-433eb564c009"
      },
      "execution_count": 130,
      "outputs": [
        {
          "output_type": "execute_result",
          "data": {
            "text/plain": [
              "array([[8.4467731e-24, 1.3205011e-15, 7.9213711e-16, 1.0000000e+00,\n",
              "        1.4169203e-34, 9.4007766e-13, 2.9190330e-27, 2.9549662e-25,\n",
              "        1.6685232e-17, 9.0510028e-18]], dtype=float32)"
            ]
          },
          "metadata": {},
          "execution_count": 130
        }
      ]
    },
    {
      "cell_type": "code",
      "source": [
        "predicted_classes = np.argmax(probability)"
      ],
      "metadata": {
        "id": "aShYRA7HAhzh"
      },
      "execution_count": 131,
      "outputs": []
    },
    {
      "cell_type": "code",
      "source": [
        "predicted_classes"
      ],
      "metadata": {
        "colab": {
          "base_uri": "https://localhost:8080/"
        },
        "id": "dyqKyaE7AuuO",
        "outputId": "eddd5248-4730-4128-d40d-d2df5d70ec7b"
      },
      "execution_count": 132,
      "outputs": [
        {
          "output_type": "execute_result",
          "data": {
            "text/plain": [
              "3"
            ]
          },
          "metadata": {},
          "execution_count": 132
        }
      ]
    },
    {
      "cell_type": "code",
      "source": [
        "print(f\"Tahmin Edilen Sınıf: {predicted_classes}\")\n",
        "print(f\"Tahmin Edilen Sınıfın Olasılık Değeri: {(np.max(probability, axis=-1))[0]}\")\n",
        "print(f\"Diğer Sınıfların Olasılık Değerleri: {probability} \")\n"
      ],
      "metadata": {
        "colab": {
          "base_uri": "https://localhost:8080/"
        },
        "id": "INZTwJ61AwiJ",
        "outputId": "d9a90659-b25e-4315-b35a-b2b3c0b34054"
      },
      "execution_count": 137,
      "outputs": [
        {
          "output_type": "stream",
          "name": "stdout",
          "text": [
            "Tahmin Edilen Sınıf: 3\n",
            "Tahmin Edilen Sınıfın Olasılık Değeri: 1.0\n",
            "Diğer Sınıfların Olasılık Değerleri: [[8.4467731e-24 1.3205011e-15 7.9213711e-16 1.0000000e+00 1.4169203e-34\n",
            "  9.4007766e-13 2.9190330e-27 2.9549662e-25 1.6685232e-17 9.0510028e-18]] \n"
          ]
        }
      ]
    },
    {
      "cell_type": "code",
      "source": [
        "  "
      ],
      "metadata": {
        "id": "J-LXRjLOBwCu"
      },
      "execution_count": null,
      "outputs": []
    }
  ]
}