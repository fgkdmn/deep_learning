{
 "cells": [
  {
   "cell_type": "markdown",
   "id": "5edb2314",
   "metadata": {},
   "source": [
    "# RECURRENT NEURAL NETWORK(RNN)\n",
    "\n",
    "## 1)Business Problem(İş Problemi)\n",
    "\n",
    "## 2)Data Understanding(Veriyi Anlamak)\n",
    "\n",
    "## 3)Data Preparation(Veriyi Hazırlama)\n",
    "\n",
    "## 4)Modelling(Modelleme)\n",
    "\n",
    "## 5)Evaluation(Değerlendirme)"
   ]
  },
  {
   "cell_type": "markdown",
   "id": "1862603d",
   "metadata": {},
   "source": [
    "## 1)Business Problem(İş Problemi)\n",
    "\n",
    "#### Month: Aylık olarak yer alan tarih değişkenidir.\n",
    "\n",
    "#### Passengers:İlgili işlem tarihindeki yolcu sayısını, yani aylık yolcu sayısını temsil etmektedir.\n",
    "\n",
    "https://www.kaggle.com/datasets/andreazzini/international-airline-passengers"
   ]
  },
  {
   "cell_type": "code",
   "execution_count": 1,
   "id": "64a05673",
   "metadata": {},
   "outputs": [
    {
     "name": "stdout",
     "output_type": "stream",
     "text": [
      "Requirement already satisfied: matplotlib in c:\\users\\packard bell\\anaconda3\\lib\\site-packages (3.5.1)\n",
      "Requirement already satisfied: numpy>=1.17 in c:\\users\\packard bell\\anaconda3\\lib\\site-packages (from matplotlib) (1.21.5)\n",
      "Requirement already satisfied: kiwisolver>=1.0.1 in c:\\users\\packard bell\\anaconda3\\lib\\site-packages (from matplotlib) (1.4.2)\n",
      "Requirement already satisfied: cycler>=0.10 in c:\\users\\packard bell\\anaconda3\\lib\\site-packages (from matplotlib) (0.11.0)\n",
      "Requirement already satisfied: fonttools>=4.22.0 in c:\\users\\packard bell\\anaconda3\\lib\\site-packages (from matplotlib) (4.25.0)\n",
      "Requirement already satisfied: python-dateutil>=2.7 in c:\\users\\packard bell\\anaconda3\\lib\\site-packages (from matplotlib) (2.8.2)\n",
      "Requirement already satisfied: pyparsing>=2.2.1 in c:\\users\\packard bell\\anaconda3\\lib\\site-packages (from matplotlib) (3.0.4)\n",
      "Requirement already satisfied: pillow>=6.2.0 in c:\\users\\packard bell\\anaconda3\\lib\\site-packages (from matplotlib) (9.0.1)\n",
      "Requirement already satisfied: packaging>=20.0 in c:\\users\\packard bell\\anaconda3\\lib\\site-packages (from matplotlib) (21.3)\n",
      "Requirement already satisfied: six>=1.5 in c:\\users\\packard bell\\anaconda3\\lib\\site-packages (from python-dateutil>=2.7->matplotlib) (1.16.0)\n"
     ]
    }
   ],
   "source": [
    "!pip install matplotlib"
   ]
  },
  {
   "cell_type": "code",
   "execution_count": 2,
   "id": "776ce837",
   "metadata": {},
   "outputs": [
    {
     "name": "stdout",
     "output_type": "stream",
     "text": [
      "Requirement already satisfied: DateTime in c:\\users\\packard bell\\anaconda3\\lib\\site-packages (4.7)\n",
      "Requirement already satisfied: pytz in c:\\users\\packard bell\\anaconda3\\lib\\site-packages (from DateTime) (2022.1)\n",
      "Requirement already satisfied: zope.interface in c:\\users\\packard bell\\anaconda3\\lib\\site-packages (from DateTime) (5.4.0)\n",
      "Requirement already satisfied: setuptools in c:\\users\\packard bell\\anaconda3\\lib\\site-packages (from zope.interface->DateTime) (61.2.0)\n"
     ]
    }
   ],
   "source": [
    "!pip install DateTime"
   ]
  },
  {
   "cell_type": "markdown",
   "id": "a94f5ce8",
   "metadata": {},
   "source": [
    "## 2)Data Understanding(Veriyi Anlamak)\n",
    "### 2.1) Gerekli Kütüphanelerin Import İşlemleri"
   ]
  },
  {
   "cell_type": "code",
   "execution_count": 3,
   "id": "42e955e8",
   "metadata": {},
   "outputs": [],
   "source": [
    "# Veriyi okuma ve işleme adımında kullanılacak olan kütüphaneler\n",
    "import numpy as np\n",
    "import pandas as pd\n",
    "import datetime as dt\n",
    "import tensorflow as tf\n",
    "import matplotlib.pyplot as plt\n",
    "\n",
    "# Model değerlendirme ve veriyi scale edebilmemiz için \n",
    "from sklearn.preprocessing import MinMaxScaler\n",
    "from sklearn.metrics import mean_squared_error\n",
    "\n",
    "# Model için kullanılacak kütüphaneler\n",
    "from tensorflow.keras.models import Sequential\n",
    "from tensorflow.keras.layers import Dense, SimpleRNN, Dropout\n",
    "from tensorflow.keras.callbacks import ModelCheckpoint, EarlyStopping\n",
    "\n",
    "# Warningleri kapatmak için kullanılmaktadır\n",
    "import warnings\n",
    "warnings.filterwarnings(\"ignore\")\n",
    "\n",
    "# Tensorflow warning engelleme\n",
    "import os\n",
    "os.environ[\"TF_CPP_MIN_LOG_LEVEL\"] = \"3\"\n",
    "tf.compat.v1.logging.set_verbosity(tf.compat.v1.logging.ERROR)"
   ]
  },
  {
   "cell_type": "markdown",
   "id": "2f20e39a",
   "metadata": {},
   "source": [
    "### 2.2) Veri Setini Yüklenmesi ve Verinin Genel Resminin İncelenmesi"
   ]
  },
  {
   "cell_type": "code",
   "execution_count": 4,
   "id": "c2017f26",
   "metadata": {},
   "outputs": [],
   "source": [
    "df = pd.read_csv(\"international-airline-passengers.csv\")     "
   ]
  },
  {
   "cell_type": "code",
   "execution_count": 5,
   "id": "d17061b7",
   "metadata": {},
   "outputs": [
    {
     "data": {
      "text/html": [
       "<div>\n",
       "<style scoped>\n",
       "    .dataframe tbody tr th:only-of-type {\n",
       "        vertical-align: middle;\n",
       "    }\n",
       "\n",
       "    .dataframe tbody tr th {\n",
       "        vertical-align: top;\n",
       "    }\n",
       "\n",
       "    .dataframe thead th {\n",
       "        text-align: right;\n",
       "    }\n",
       "</style>\n",
       "<table border=\"1\" class=\"dataframe\">\n",
       "  <thead>\n",
       "    <tr style=\"text-align: right;\">\n",
       "      <th></th>\n",
       "      <th>Month</th>\n",
       "      <th>International airline passengers: monthly totals in thousands. Jan 49 ? Dec 60</th>\n",
       "    </tr>\n",
       "  </thead>\n",
       "  <tbody>\n",
       "    <tr>\n",
       "      <th>0</th>\n",
       "      <td>1949-01</td>\n",
       "      <td>112.0</td>\n",
       "    </tr>\n",
       "    <tr>\n",
       "      <th>1</th>\n",
       "      <td>1949-02</td>\n",
       "      <td>118.0</td>\n",
       "    </tr>\n",
       "    <tr>\n",
       "      <th>2</th>\n",
       "      <td>1949-03</td>\n",
       "      <td>132.0</td>\n",
       "    </tr>\n",
       "    <tr>\n",
       "      <th>3</th>\n",
       "      <td>1949-04</td>\n",
       "      <td>129.0</td>\n",
       "    </tr>\n",
       "    <tr>\n",
       "      <th>4</th>\n",
       "      <td>1949-05</td>\n",
       "      <td>121.0</td>\n",
       "    </tr>\n",
       "  </tbody>\n",
       "</table>\n",
       "</div>"
      ],
      "text/plain": [
       "     Month  \\\n",
       "0  1949-01   \n",
       "1  1949-02   \n",
       "2  1949-03   \n",
       "3  1949-04   \n",
       "4  1949-05   \n",
       "\n",
       "   International airline passengers: monthly totals in thousands. Jan 49 ? Dec 60  \n",
       "0                                              112.0                               \n",
       "1                                              118.0                               \n",
       "2                                              132.0                               \n",
       "3                                              129.0                               \n",
       "4                                              121.0                               "
      ]
     },
     "execution_count": 5,
     "metadata": {},
     "output_type": "execute_result"
    }
   ],
   "source": [
    "df.head()"
   ]
  },
  {
   "cell_type": "code",
   "execution_count": 6,
   "id": "526a3e92",
   "metadata": {},
   "outputs": [
    {
     "data": {
      "text/plain": [
       "Index(['Month', 'International airline passengers: monthly totals in thousands. Jan 49 ? Dec 60'], dtype='object')"
      ]
     },
     "execution_count": 6,
     "metadata": {},
     "output_type": "execute_result"
    }
   ],
   "source": [
    "df.columns"
   ]
  },
  {
   "cell_type": "code",
   "execution_count": 7,
   "id": "59735db9",
   "metadata": {},
   "outputs": [],
   "source": [
    "# Değişkenin isimini değiştirerek daha anlaşılır bir forma getiriyoruz.\n",
    "df.columns = [\"Month\", \"Passengers\"]\n",
    "\n"
   ]
  },
  {
   "cell_type": "code",
   "execution_count": 8,
   "id": "41f1af80",
   "metadata": {},
   "outputs": [
    {
     "data": {
      "text/html": [
       "<div>\n",
       "<style scoped>\n",
       "    .dataframe tbody tr th:only-of-type {\n",
       "        vertical-align: middle;\n",
       "    }\n",
       "\n",
       "    .dataframe tbody tr th {\n",
       "        vertical-align: top;\n",
       "    }\n",
       "\n",
       "    .dataframe thead th {\n",
       "        text-align: right;\n",
       "    }\n",
       "</style>\n",
       "<table border=\"1\" class=\"dataframe\">\n",
       "  <thead>\n",
       "    <tr style=\"text-align: right;\">\n",
       "      <th></th>\n",
       "      <th>Month</th>\n",
       "      <th>Passengers</th>\n",
       "    </tr>\n",
       "  </thead>\n",
       "  <tbody>\n",
       "    <tr>\n",
       "      <th>0</th>\n",
       "      <td>1949-01</td>\n",
       "      <td>112.0</td>\n",
       "    </tr>\n",
       "    <tr>\n",
       "      <th>1</th>\n",
       "      <td>1949-02</td>\n",
       "      <td>118.0</td>\n",
       "    </tr>\n",
       "    <tr>\n",
       "      <th>2</th>\n",
       "      <td>1949-03</td>\n",
       "      <td>132.0</td>\n",
       "    </tr>\n",
       "    <tr>\n",
       "      <th>3</th>\n",
       "      <td>1949-04</td>\n",
       "      <td>129.0</td>\n",
       "    </tr>\n",
       "    <tr>\n",
       "      <th>4</th>\n",
       "      <td>1949-05</td>\n",
       "      <td>121.0</td>\n",
       "    </tr>\n",
       "  </tbody>\n",
       "</table>\n",
       "</div>"
      ],
      "text/plain": [
       "     Month  Passengers\n",
       "0  1949-01       112.0\n",
       "1  1949-02       118.0\n",
       "2  1949-03       132.0\n",
       "3  1949-04       129.0\n",
       "4  1949-05       121.0"
      ]
     },
     "execution_count": 8,
     "metadata": {},
     "output_type": "execute_result"
    }
   ],
   "source": [
    "df.head()"
   ]
  },
  {
   "cell_type": "code",
   "execution_count": 9,
   "id": "9a5ea483",
   "metadata": {},
   "outputs": [
    {
     "data": {
      "text/html": [
       "<div>\n",
       "<style scoped>\n",
       "    .dataframe tbody tr th:only-of-type {\n",
       "        vertical-align: middle;\n",
       "    }\n",
       "\n",
       "    .dataframe tbody tr th {\n",
       "        vertical-align: top;\n",
       "    }\n",
       "\n",
       "    .dataframe thead th {\n",
       "        text-align: right;\n",
       "    }\n",
       "</style>\n",
       "<table border=\"1\" class=\"dataframe\">\n",
       "  <thead>\n",
       "    <tr style=\"text-align: right;\">\n",
       "      <th></th>\n",
       "      <th>Month</th>\n",
       "      <th>Passengers</th>\n",
       "    </tr>\n",
       "  </thead>\n",
       "  <tbody>\n",
       "    <tr>\n",
       "      <th>140</th>\n",
       "      <td>1960-09</td>\n",
       "      <td>508.0</td>\n",
       "    </tr>\n",
       "    <tr>\n",
       "      <th>141</th>\n",
       "      <td>1960-10</td>\n",
       "      <td>461.0</td>\n",
       "    </tr>\n",
       "    <tr>\n",
       "      <th>142</th>\n",
       "      <td>1960-11</td>\n",
       "      <td>390.0</td>\n",
       "    </tr>\n",
       "    <tr>\n",
       "      <th>143</th>\n",
       "      <td>1960-12</td>\n",
       "      <td>432.0</td>\n",
       "    </tr>\n",
       "    <tr>\n",
       "      <th>144</th>\n",
       "      <td>International airline passengers: monthly tota...</td>\n",
       "      <td>NaN</td>\n",
       "    </tr>\n",
       "  </tbody>\n",
       "</table>\n",
       "</div>"
      ],
      "text/plain": [
       "                                                 Month  Passengers\n",
       "140                                            1960-09       508.0\n",
       "141                                            1960-10       461.0\n",
       "142                                            1960-11       390.0\n",
       "143                                            1960-12       432.0\n",
       "144  International airline passengers: monthly tota...         NaN"
      ]
     },
     "execution_count": 9,
     "metadata": {},
     "output_type": "execute_result"
    }
   ],
   "source": [
    "df.tail()"
   ]
  },
  {
   "cell_type": "code",
   "execution_count": 10,
   "id": "8645b92e",
   "metadata": {},
   "outputs": [
    {
     "data": {
      "text/plain": [
       "(145, 2)"
      ]
     },
     "execution_count": 10,
     "metadata": {},
     "output_type": "execute_result"
    }
   ],
   "source": [
    "df.shape"
   ]
  },
  {
   "cell_type": "code",
   "execution_count": 11,
   "id": "36dc610c",
   "metadata": {},
   "outputs": [
    {
     "data": {
      "text/plain": [
       "Month          object\n",
       "Passengers    float64\n",
       "dtype: object"
      ]
     },
     "execution_count": 11,
     "metadata": {},
     "output_type": "execute_result"
    }
   ],
   "source": [
    "df.dtypes"
   ]
  },
  {
   "cell_type": "code",
   "execution_count": 12,
   "id": "ab90d7a8",
   "metadata": {},
   "outputs": [
    {
     "data": {
      "text/plain": [
       "Month         0\n",
       "Passengers    1\n",
       "dtype: int64"
      ]
     },
     "execution_count": 12,
     "metadata": {},
     "output_type": "execute_result"
    }
   ],
   "source": [
    "df.isnull().sum()"
   ]
  },
  {
   "cell_type": "code",
   "execution_count": 13,
   "id": "2525301b",
   "metadata": {},
   "outputs": [
    {
     "data": {
      "text/html": [
       "<div>\n",
       "<style scoped>\n",
       "    .dataframe tbody tr th:only-of-type {\n",
       "        vertical-align: middle;\n",
       "    }\n",
       "\n",
       "    .dataframe tbody tr th {\n",
       "        vertical-align: top;\n",
       "    }\n",
       "\n",
       "    .dataframe thead th {\n",
       "        text-align: right;\n",
       "    }\n",
       "</style>\n",
       "<table border=\"1\" class=\"dataframe\">\n",
       "  <thead>\n",
       "    <tr style=\"text-align: right;\">\n",
       "      <th></th>\n",
       "      <th>count</th>\n",
       "      <th>mean</th>\n",
       "      <th>std</th>\n",
       "      <th>min</th>\n",
       "      <th>25%</th>\n",
       "      <th>50%</th>\n",
       "      <th>75%</th>\n",
       "      <th>max</th>\n",
       "    </tr>\n",
       "  </thead>\n",
       "  <tbody>\n",
       "    <tr>\n",
       "      <th>Passengers</th>\n",
       "      <td>144.0</td>\n",
       "      <td>280.298611</td>\n",
       "      <td>119.966317</td>\n",
       "      <td>104.0</td>\n",
       "      <td>180.0</td>\n",
       "      <td>265.5</td>\n",
       "      <td>360.5</td>\n",
       "      <td>622.0</td>\n",
       "    </tr>\n",
       "  </tbody>\n",
       "</table>\n",
       "</div>"
      ],
      "text/plain": [
       "            count        mean         std    min    25%    50%    75%    max\n",
       "Passengers  144.0  280.298611  119.966317  104.0  180.0  265.5  360.5  622.0"
      ]
     },
     "execution_count": 13,
     "metadata": {},
     "output_type": "execute_result"
    }
   ],
   "source": [
    "df.describe().T"
   ]
  },
  {
   "cell_type": "markdown",
   "id": "9274eaf6",
   "metadata": {},
   "source": [
    "### 3)Data Preparation(Veriyi Hazırlama)"
   ]
  },
  {
   "cell_type": "code",
   "execution_count": 14,
   "id": "d7ebad8e",
   "metadata": {},
   "outputs": [],
   "source": [
    "# Son satırda veri bozuk olduğu için o satırı atıyoruz\n",
    "\n",
    "df = df[:144]"
   ]
  },
  {
   "cell_type": "code",
   "execution_count": 15,
   "id": "72f042aa",
   "metadata": {},
   "outputs": [
    {
     "data": {
      "text/html": [
       "<div>\n",
       "<style scoped>\n",
       "    .dataframe tbody tr th:only-of-type {\n",
       "        vertical-align: middle;\n",
       "    }\n",
       "\n",
       "    .dataframe tbody tr th {\n",
       "        vertical-align: top;\n",
       "    }\n",
       "\n",
       "    .dataframe thead th {\n",
       "        text-align: right;\n",
       "    }\n",
       "</style>\n",
       "<table border=\"1\" class=\"dataframe\">\n",
       "  <thead>\n",
       "    <tr style=\"text-align: right;\">\n",
       "      <th></th>\n",
       "      <th>Month</th>\n",
       "      <th>Passengers</th>\n",
       "    </tr>\n",
       "  </thead>\n",
       "  <tbody>\n",
       "    <tr>\n",
       "      <th>139</th>\n",
       "      <td>1960-08</td>\n",
       "      <td>606.0</td>\n",
       "    </tr>\n",
       "    <tr>\n",
       "      <th>140</th>\n",
       "      <td>1960-09</td>\n",
       "      <td>508.0</td>\n",
       "    </tr>\n",
       "    <tr>\n",
       "      <th>141</th>\n",
       "      <td>1960-10</td>\n",
       "      <td>461.0</td>\n",
       "    </tr>\n",
       "    <tr>\n",
       "      <th>142</th>\n",
       "      <td>1960-11</td>\n",
       "      <td>390.0</td>\n",
       "    </tr>\n",
       "    <tr>\n",
       "      <th>143</th>\n",
       "      <td>1960-12</td>\n",
       "      <td>432.0</td>\n",
       "    </tr>\n",
       "  </tbody>\n",
       "</table>\n",
       "</div>"
      ],
      "text/plain": [
       "       Month  Passengers\n",
       "139  1960-08       606.0\n",
       "140  1960-09       508.0\n",
       "141  1960-10       461.0\n",
       "142  1960-11       390.0\n",
       "143  1960-12       432.0"
      ]
     },
     "execution_count": 15,
     "metadata": {},
     "output_type": "execute_result"
    }
   ],
   "source": [
    "df.tail()"
   ]
  },
  {
   "cell_type": "code",
   "execution_count": 16,
   "id": "d9fe9f89",
   "metadata": {},
   "outputs": [
    {
     "name": "stdout",
     "output_type": "stream",
     "text": [
      "<class 'pandas.core.frame.DataFrame'>\n",
      "RangeIndex: 144 entries, 0 to 143\n",
      "Data columns (total 2 columns):\n",
      " #   Column      Non-Null Count  Dtype  \n",
      "---  ------      --------------  -----  \n",
      " 0   Month       144 non-null    object \n",
      " 1   Passengers  144 non-null    float64\n",
      "dtypes: float64(1), object(1)\n",
      "memory usage: 2.4+ KB\n"
     ]
    }
   ],
   "source": [
    "df.info()"
   ]
  },
  {
   "cell_type": "code",
   "execution_count": 17,
   "id": "d081a1d9",
   "metadata": {},
   "outputs": [],
   "source": [
    "# Görüldüğü üzere Month değişkeni object tipinde ve bu değişkeni datetime olarak değirmemiz gerekmektedir.\n",
    "\n",
    "df[\"Month\"] = pd.to_datetime(df[\"Month\"])"
   ]
  },
  {
   "cell_type": "code",
   "execution_count": 18,
   "id": "660a85e2",
   "metadata": {},
   "outputs": [
    {
     "name": "stdout",
     "output_type": "stream",
     "text": [
      "<class 'pandas.core.frame.DataFrame'>\n",
      "RangeIndex: 144 entries, 0 to 143\n",
      "Data columns (total 2 columns):\n",
      " #   Column      Non-Null Count  Dtype         \n",
      "---  ------      --------------  -----         \n",
      " 0   Month       144 non-null    datetime64[ns]\n",
      " 1   Passengers  144 non-null    float64       \n",
      "dtypes: datetime64[ns](1), float64(1)\n",
      "memory usage: 2.4 KB\n"
     ]
    }
   ],
   "source": [
    "df.info()"
   ]
  },
  {
   "cell_type": "code",
   "execution_count": 19,
   "id": "a8caf075",
   "metadata": {},
   "outputs": [
    {
     "name": "stdout",
     "output_type": "stream",
     "text": [
      "Minumum Tarih: 1949-01-01 00:00:00\n",
      "Maksimum Tarih: 1960-12-01 00:00:00\n"
     ]
    }
   ],
   "source": [
    "print(\"Minumum Tarih:\", (df[\"Month\"]).min())\n",
    "print(\"Maksimum Tarih:\", (df[\"Month\"]).max())"
   ]
  },
  {
   "cell_type": "code",
   "execution_count": 20,
   "id": "15a43edf",
   "metadata": {},
   "outputs": [],
   "source": [
    "# Month değişkenini index olarak belirliyoruz.\n",
    "\n",
    "df.index = df[\"Month\"]"
   ]
  },
  {
   "cell_type": "code",
   "execution_count": 21,
   "id": "016bc03e",
   "metadata": {},
   "outputs": [
    {
     "data": {
      "text/html": [
       "<div>\n",
       "<style scoped>\n",
       "    .dataframe tbody tr th:only-of-type {\n",
       "        vertical-align: middle;\n",
       "    }\n",
       "\n",
       "    .dataframe tbody tr th {\n",
       "        vertical-align: top;\n",
       "    }\n",
       "\n",
       "    .dataframe thead th {\n",
       "        text-align: right;\n",
       "    }\n",
       "</style>\n",
       "<table border=\"1\" class=\"dataframe\">\n",
       "  <thead>\n",
       "    <tr style=\"text-align: right;\">\n",
       "      <th></th>\n",
       "      <th>Month</th>\n",
       "      <th>Passengers</th>\n",
       "    </tr>\n",
       "    <tr>\n",
       "      <th>Month</th>\n",
       "      <th></th>\n",
       "      <th></th>\n",
       "    </tr>\n",
       "  </thead>\n",
       "  <tbody>\n",
       "    <tr>\n",
       "      <th>1949-01-01</th>\n",
       "      <td>1949-01-01</td>\n",
       "      <td>112.0</td>\n",
       "    </tr>\n",
       "    <tr>\n",
       "      <th>1949-02-01</th>\n",
       "      <td>1949-02-01</td>\n",
       "      <td>118.0</td>\n",
       "    </tr>\n",
       "    <tr>\n",
       "      <th>1949-03-01</th>\n",
       "      <td>1949-03-01</td>\n",
       "      <td>132.0</td>\n",
       "    </tr>\n",
       "    <tr>\n",
       "      <th>1949-04-01</th>\n",
       "      <td>1949-04-01</td>\n",
       "      <td>129.0</td>\n",
       "    </tr>\n",
       "    <tr>\n",
       "      <th>1949-05-01</th>\n",
       "      <td>1949-05-01</td>\n",
       "      <td>121.0</td>\n",
       "    </tr>\n",
       "  </tbody>\n",
       "</table>\n",
       "</div>"
      ],
      "text/plain": [
       "                Month  Passengers\n",
       "Month                            \n",
       "1949-01-01 1949-01-01       112.0\n",
       "1949-02-01 1949-02-01       118.0\n",
       "1949-03-01 1949-03-01       132.0\n",
       "1949-04-01 1949-04-01       129.0\n",
       "1949-05-01 1949-05-01       121.0"
      ]
     },
     "execution_count": 21,
     "metadata": {},
     "output_type": "execute_result"
    }
   ],
   "source": [
    "df.head()"
   ]
  },
  {
   "cell_type": "code",
   "execution_count": 22,
   "id": "6ae0b544",
   "metadata": {},
   "outputs": [],
   "source": [
    "# Değişkenlerin arasından silme işlemini gerçekleştiriyoruz.\n",
    "\n",
    "df.drop(\"Month\", axis=1, inplace=True)"
   ]
  },
  {
   "cell_type": "code",
   "execution_count": 23,
   "id": "528b006d",
   "metadata": {},
   "outputs": [
    {
     "data": {
      "text/html": [
       "<div>\n",
       "<style scoped>\n",
       "    .dataframe tbody tr th:only-of-type {\n",
       "        vertical-align: middle;\n",
       "    }\n",
       "\n",
       "    .dataframe tbody tr th {\n",
       "        vertical-align: top;\n",
       "    }\n",
       "\n",
       "    .dataframe thead th {\n",
       "        text-align: right;\n",
       "    }\n",
       "</style>\n",
       "<table border=\"1\" class=\"dataframe\">\n",
       "  <thead>\n",
       "    <tr style=\"text-align: right;\">\n",
       "      <th></th>\n",
       "      <th>Passengers</th>\n",
       "    </tr>\n",
       "    <tr>\n",
       "      <th>Month</th>\n",
       "      <th></th>\n",
       "    </tr>\n",
       "  </thead>\n",
       "  <tbody>\n",
       "    <tr>\n",
       "      <th>1949-01-01</th>\n",
       "      <td>112.0</td>\n",
       "    </tr>\n",
       "    <tr>\n",
       "      <th>1949-02-01</th>\n",
       "      <td>118.0</td>\n",
       "    </tr>\n",
       "    <tr>\n",
       "      <th>1949-03-01</th>\n",
       "      <td>132.0</td>\n",
       "    </tr>\n",
       "    <tr>\n",
       "      <th>1949-04-01</th>\n",
       "      <td>129.0</td>\n",
       "    </tr>\n",
       "    <tr>\n",
       "      <th>1949-05-01</th>\n",
       "      <td>121.0</td>\n",
       "    </tr>\n",
       "  </tbody>\n",
       "</table>\n",
       "</div>"
      ],
      "text/plain": [
       "            Passengers\n",
       "Month                 \n",
       "1949-01-01       112.0\n",
       "1949-02-01       118.0\n",
       "1949-03-01       132.0\n",
       "1949-04-01       129.0\n",
       "1949-05-01       121.0"
      ]
     },
     "execution_count": 23,
     "metadata": {},
     "output_type": "execute_result"
    }
   ],
   "source": [
    "df.head()"
   ]
  },
  {
   "cell_type": "code",
   "execution_count": 24,
   "id": "13875097",
   "metadata": {},
   "outputs": [],
   "source": [
    "# Bu dataframe'in bu halini model sonuçlarının analizi için kaydedelim.\n",
    "\n",
    "result_df = df.copy()"
   ]
  },
  {
   "cell_type": "code",
   "execution_count": 25,
   "id": "930da105",
   "metadata": {},
   "outputs": [
    {
     "data": {
      "image/png": "[encoded data removed]",
      "text/plain": [
       "<Figure size 1008x576 with 1 Axes>"
      ]
     },
     "metadata": {
      "needs_background": "light"
     },
     "output_type": "display_data"
    }
   ],
   "source": [
    "# Veri setini görselleştirelim ve kısaca inceleyelim.\n",
    "\n",
    "df.plot(figsize=(14,8), title=\"Monthly airlane passengers\");"
   ]
  },
  {
   "cell_type": "code",
   "execution_count": 26,
   "id": "231a63e2",
   "metadata": {},
   "outputs": [],
   "source": [
    "# Modelleme işlemine başlamadan önce df olan verimizi numpy.ndarray' e çeviriyoruz çünkü modele bu tipte gönderiyor olucağız. \n",
    "\n",
    "data = df[\"Passengers\"].values"
   ]
  },
  {
   "cell_type": "code",
   "execution_count": 27,
   "id": "38201536",
   "metadata": {},
   "outputs": [
    {
     "data": {
      "text/plain": [
       "array([112., 118., 132., 129., 121.])"
      ]
     },
     "execution_count": 27,
     "metadata": {},
     "output_type": "execute_result"
    }
   ],
   "source": [
    "data[0:5]"
   ]
  },
  {
   "cell_type": "code",
   "execution_count": 28,
   "id": "d82cc2f9",
   "metadata": {},
   "outputs": [
    {
     "data": {
      "text/plain": [
       "numpy.ndarray"
      ]
     },
     "execution_count": 28,
     "metadata": {},
     "output_type": "execute_result"
    }
   ],
   "source": [
    "type(data[0:5])"
   ]
  },
  {
   "cell_type": "code",
   "execution_count": 29,
   "id": "ca5ee8e9",
   "metadata": {},
   "outputs": [
    {
     "data": {
      "text/plain": [
       "numpy.float64"
      ]
     },
     "execution_count": 29,
     "metadata": {},
     "output_type": "execute_result"
    }
   ],
   "source": [
    "type(data[0])"
   ]
  },
  {
   "cell_type": "code",
   "execution_count": 30,
   "id": "bfdfa534",
   "metadata": {},
   "outputs": [],
   "source": [
    "# Sinir ağını kullanırken yaygınca kullanılan format float32 dir. Bu sebeple çeviriyoruz.\n",
    "\n",
    "data = data.astype(\"float32\")"
   ]
  },
  {
   "cell_type": "code",
   "execution_count": 31,
   "id": "6219f8c1",
   "metadata": {},
   "outputs": [
    {
     "data": {
      "text/plain": [
       "numpy.float32"
      ]
     },
     "execution_count": 31,
     "metadata": {},
     "output_type": "execute_result"
    }
   ],
   "source": [
    "type(data[0])"
   ]
  },
  {
   "cell_type": "code",
   "execution_count": 32,
   "id": "80b2612c",
   "metadata": {},
   "outputs": [
    {
     "data": {
      "text/plain": [
       "(144,)"
      ]
     },
     "execution_count": 32,
     "metadata": {},
     "output_type": "execute_result"
    }
   ],
   "source": [
    "data.shape"
   ]
  },
  {
   "cell_type": "code",
   "execution_count": 33,
   "id": "e345bc99",
   "metadata": {},
   "outputs": [],
   "source": [
    "# Veriyi modele sokmadan önce bir boyut ayarlaması yapmamız gerekmektedir.\n",
    "\n",
    "data = data.reshape(-1,1)"
   ]
  },
  {
   "cell_type": "code",
   "execution_count": 34,
   "id": "4ffd07e6",
   "metadata": {},
   "outputs": [
    {
     "data": {
      "text/plain": [
       "(144, 1)"
      ]
     },
     "execution_count": 34,
     "metadata": {},
     "output_type": "execute_result"
    }
   ],
   "source": [
    "data.shape"
   ]
  },
  {
   "cell_type": "code",
   "execution_count": 35,
   "id": "29e2a910",
   "metadata": {},
   "outputs": [],
   "source": [
    "# Elimizdeki veriyi train ve test olarak 2' ye ayırıyor olucağız.\n",
    "# Fakat train ve test olarak ayırmamız rastgele olmamalıdır çünkü zaman serileri(TimeSeries) üzerinde çalışıyoruz.\n",
    "# Bu yüzden sklearn.model_selection bize sunduğu train_test_split fonksiyonunu burda kullanamayız.\n",
    "# Elimizde zamana bağlı bir veri olduğundan train,test ayrıma işlemlerini daha kontrollü yapmalıyız.\n",
    "# Bu işlem için bir fonksiyon tanımlıyoruz.\n",
    "\n",
    "def split_data(dataframe, test_size):\n",
    "    position = int(round(len(dataframe) * (1-test_size)))\n",
    "    train = dataframe[:position]\n",
    "    test = dataframe[position:]\n",
    "    return train,test, position"
   ]
  },
  {
   "cell_type": "code",
   "execution_count": 36,
   "id": "83d312dc",
   "metadata": {},
   "outputs": [],
   "source": [
    "# Ayırma işlemini tam sayı gelebilmesi için 0.33 almış olduk fakat daha farklı yüzdelikler alınabilir.\n",
    "\n",
    "train, test, position = split_data(data, 0.33)"
   ]
  },
  {
   "cell_type": "code",
   "execution_count": 37,
   "id": "8b73966b",
   "metadata": {},
   "outputs": [
    {
     "name": "stdout",
     "output_type": "stream",
     "text": [
      "(96, 1) (48, 1)\n"
     ]
    }
   ],
   "source": [
    "print(train.shape, test.shape)"
   ]
  },
  {
   "cell_type": "code",
   "execution_count": 38,
   "id": "6e8f6669",
   "metadata": {},
   "outputs": [],
   "source": [
    "# Optimizayon süresini kısaltmak adına standartlaşma işlemi uyguluyoruz.\n",
    "# Amacımız hız, performans kazandırmak ve değişkenlerin birbirlerinin etkilerine gölge düşürmemesini sağlamaktır.\n",
    "# Dönüştürme işlemini Data Leakage problemininin önüne geçmek için test ve train veri setlerine ayrı ayrı uyguluyoruz.\n",
    "# Eğer dönüştüme tüm veri setine yapılsaydı train setindeki örüntüler set setindeki örüntülere işaret edecek olacaktı.\n",
    "\n",
    "scaler_train = MinMaxScaler(feature_range = (0,1))\n",
    "train = scaler_train.fit_transform(train)\n",
    "\n",
    "\n",
    "scaler_test = MinMaxScaler(feature_range = (0,1))\n",
    "test = scaler_test.fit_transform(test)"
   ]
  },
  {
   "cell_type": "code",
   "execution_count": 39,
   "id": "a7fea8f8",
   "metadata": {},
   "outputs": [
    {
     "data": {
      "text/plain": [
       "array([[0.02588999],\n",
       "       [0.04530746],\n",
       "       [0.09061491],\n",
       "       [0.08090615],\n",
       "       [0.05501619]], dtype=float32)"
      ]
     },
     "execution_count": 39,
     "metadata": {},
     "output_type": "execute_result"
    }
   ],
   "source": [
    "train[0:5]"
   ]
  },
  {
   "cell_type": "code",
   "execution_count": 40,
   "id": "49c0fbea",
   "metadata": {},
   "outputs": [
    {
     "data": {
      "text/plain": [
       "array([[0.04361373],\n",
       "       [0.        ],\n",
       "       [0.17133951],\n",
       "       [0.1464175 ],\n",
       "       [0.16822433]], dtype=float32)"
      ]
     },
     "execution_count": 40,
     "metadata": {},
     "output_type": "execute_result"
    }
   ],
   "source": [
    "test[0:5]"
   ]
  },
  {
   "cell_type": "code",
   "execution_count": 41,
   "id": "1ef8c49b",
   "metadata": {},
   "outputs": [],
   "source": [
    "# Veri setine yeni bir değişken ekleme işlemi gerçekleştireceğiz.\n",
    "# Zaman serilerinde serinin t anındaki değeri en fazla kendisinden bir önceki zaman periyodundan(t-1) etkilenir. \n",
    "# Bunun için bir fonksiyon tanımlayalım.\n",
    "\n",
    "def  create_features(data, lookback):\n",
    "    X, Y = [], []\n",
    "    for i in range(lookback, len(data)):\n",
    "        X.append(data[i-lookback:i,0])\n",
    "        Y.append(data[i,0])\n",
    "        \n",
    "    return np.array(X), np.array(Y)    "
   ]
  },
  {
   "cell_type": "code",
   "execution_count": 42,
   "id": "a3b23a7d",
   "metadata": {},
   "outputs": [],
   "source": [
    "lookback = 1\n"
   ]
  },
  {
   "cell_type": "code",
   "execution_count": 43,
   "id": "18ec2ce8",
   "metadata": {},
   "outputs": [],
   "source": [
    "# Train veri seti\n",
    "X_train, y_train = create_features(train, lookback)"
   ]
  },
  {
   "cell_type": "code",
   "execution_count": 44,
   "id": "b71bdd03",
   "metadata": {},
   "outputs": [],
   "source": [
    "# Test veri seti\n",
    "X_test, y_test = create_features(test, lookback)"
   ]
  },
  {
   "cell_type": "code",
   "execution_count": 45,
   "id": "08851064",
   "metadata": {},
   "outputs": [
    {
     "name": "stdout",
     "output_type": "stream",
     "text": [
      "(95, 1) (95,) (47, 1) (47,)\n"
     ]
    }
   ],
   "source": [
    "print(X_train.shape, y_train.shape, X_test.shape, y_test.shape)"
   ]
  },
  {
   "cell_type": "code",
   "execution_count": 46,
   "id": "553a52c6",
   "metadata": {},
   "outputs": [],
   "source": [
    "# Veri setini modele göndermeden önce RNN'in istediği formata getirmemiz gerekmektedir.\n",
    "# Dolayısıyla 3 boyutlu bir yapıda olması gerekmektedir.\n",
    "\n",
    "X_train = np.reshape(X_train, (X_train.shape[0], 1, X_train.shape[1]))\n",
    "X_test = np.reshape(X_test, (X_test.shape[0], 1, X_test.shape[1]))\n",
    "y_train = y_train.reshape(-1,1)\n",
    "y_test = y_test.reshape(-1,1)"
   ]
  },
  {
   "cell_type": "code",
   "execution_count": 47,
   "id": "d62d4683",
   "metadata": {},
   "outputs": [
    {
     "name": "stdout",
     "output_type": "stream",
     "text": [
      "(95, 1, 1) (95, 1) (47, 1, 1) (47, 1)\n"
     ]
    }
   ],
   "source": [
    "print(X_train.shape, y_train.shape, X_test.shape, y_test.shape)"
   ]
  },
  {
   "cell_type": "markdown",
   "id": "eda94aaa",
   "metadata": {},
   "source": [
    "## 4)Modelling(Modelleme)"
   ]
  },
  {
   "cell_type": "code",
   "execution_count": 48,
   "id": "60e2b676",
   "metadata": {},
   "outputs": [],
   "source": [
    "# Sequential() ile birlikte dizi şeklinde sıralı katmanlardan oluşan sir ağımızı kuruyoruz.\n",
    "# Sinir ağının aşırı öğrenmesinin önüne geçmek için dropout katmanını ekliyoruz. \n",
    "# Son katman olarak çıktı katmanını ekliyoruz.Sınıflandırma problemi olmadığı için nöron sayısını 1 olarak belirliyoruz.\n",
    "# Kullanıcı tarafından belirlenen değerlere hiperparametre denir.\n",
    "\n",
    "model= Sequential()\n",
    "\n",
    "model.add(SimpleRNN(units=50,\n",
    "                    activation=\"relu\",\n",
    "                    input_shape=(X_train.shape[1], lookback)))\n",
    "model.add(Dropout(0.2))\n",
    "model.add(Dense(1))"
   ]
  },
  {
   "cell_type": "code",
   "execution_count": 49,
   "id": "2232def6",
   "metadata": {},
   "outputs": [
    {
     "name": "stdout",
     "output_type": "stream",
     "text": [
      "Model: \"sequential\"\n",
      "_________________________________________________________________\n",
      " Layer (type)                Output Shape              Param #   \n",
      "=================================================================\n",
      " simple_rnn (SimpleRNN)      (None, 50)                2600      \n",
      "                                                                 \n",
      " dropout (Dropout)           (None, 50)                0         \n",
      "                                                                 \n",
      " dense (Dense)               (None, 1)                 51        \n",
      "                                                                 \n",
      "=================================================================\n",
      "Total params: 2,651\n",
      "Trainable params: 2,651\n",
      "Non-trainable params: 0\n",
      "_________________________________________________________________\n"
     ]
    }
   ],
   "source": [
    "# Gözlemlemeye çalışalım\n",
    "\n",
    "model.summary()"
   ]
  },
  {
   "cell_type": "code",
   "execution_count": 50,
   "id": "bb02806d",
   "metadata": {},
   "outputs": [],
   "source": [
    "# Optimizasyon ve Değerlendirme Metrikleri Ayarlanması\n",
    "# Çıktı değikeninin sayısal olduğu bir senaryodayız ve başarıyı değerlendirme yöntemlerimizden birisi \"mean_squared_error\"dur.\n",
    "# loss fonksiyonunu optimize etme için optimizer=\"adam\" olarak veriyoruz.Farklı fonksiyonlar denenebilir.\n",
    "\n",
    "model.compile(loss=\"mean_squared_error\", optimizer=\"adam\")"
   ]
  },
  {
   "cell_type": "code",
   "execution_count": 51,
   "id": "9fce86f5",
   "metadata": {},
   "outputs": [],
   "source": [
    "# Modelmizin aşırı öğrenmesine engel olmak adına EarlyStopping ayarlaması yapacağız.\n",
    "# EarlyStopping validation loss da belirli bir noktadan sonra düşme olmazsa dur deme imkanını sağlar.\n",
    "# monitor---> Modelin bu gelişiminin hangi parametle tahmin edileceğini ifade eder.\n",
    "# patience---> Eğitimin durdurulacağı iyileşme olmayan dönein sayısını ifade eder.\n",
    "# verbose---> Burdaki işlemin raporlanma şeklini ifade etmektedir.       \n",
    "# verbose=1 anlık olarak sonuç gösterir.verbose=2 her epoch sonunda gösterir.verbose=0 ekrana herhangi bir bilgi göstermez.\n",
    "# mode='min' izlediğimiz miktarın azalması durduğunda eğitim durur.mode='max' ise artması durduğunda eğitim durur.\n",
    "# Otamatik modda ise gidelecek yön izlenen miktarın ardından otomatik olarak çıkarılır.\n",
    "\n",
    "# Modelimiz çalışırken modelimizi kaydetme adına bazı ayarmalarımızı yapmamız gerekmektedir.(ModelCheckpoint)\n",
    "# save_best_only=True---> En iyi modeli kaydetme\n",
    "# save_weights_only=False---> Bütün model özelliklerini kaydetme, True durumunda sadece ağırlıkları kaydeder.\n",
    "\n",
    "\n",
    "callbacks = [EarlyStopping(monitor=\"val_loss\", patience=3, verbose=1, mode=\"min\"),\n",
    "            ModelCheckpoint(filepath=\"mymodel.h5\", monitor=\"val_loss\", mode=\"min\",\n",
    "                           save_best_only=True, save_weights_only=False, verbose=1)]"
   ]
  },
  {
   "cell_type": "code",
   "execution_count": 52,
   "id": "c79e8d7d",
   "metadata": {},
   "outputs": [
    {
     "name": "stdout",
     "output_type": "stream",
     "text": [
      "Epoch 1/50\n",
      "89/95 [===========================>..] - ETA: 0s - loss: 0.0094\n",
      "Epoch 1: val_loss improved from inf to 0.03491, saving model to mymodel.h5\n",
      "95/95 [==============================] - 4s 15ms/step - loss: 0.0099 - val_loss: 0.0349\n",
      "Epoch 2/50\n",
      "91/95 [===========================>..] - ETA: 0s - loss: 0.0179\n",
      "Epoch 2: val_loss improved from 0.03491 to 0.02612, saving model to mymodel.h5\n",
      "95/95 [==============================] - 1s 8ms/step - loss: 0.0180 - val_loss: 0.0261\n",
      "Epoch 3/50\n",
      "93/95 [============================>.] - ETA: 0s - loss: 0.0101\n",
      "Epoch 3: val_loss improved from 0.02612 to 0.02220, saving model to mymodel.h5\n",
      "95/95 [==============================] - 1s 8ms/step - loss: 0.0100 - val_loss: 0.0222\n",
      "Epoch 4/50\n",
      "90/95 [===========================>..] - ETA: 0s - loss: 0.0094\n",
      "Epoch 4: val_loss improved from 0.02220 to 0.02146, saving model to mymodel.h5\n",
      "95/95 [==============================] - 1s 10ms/step - loss: 0.0099 - val_loss: 0.0215\n",
      "Epoch 5/50\n",
      "88/95 [==========================>...] - ETA: 0s - loss: 0.0065\n",
      "Epoch 5: val_loss improved from 0.02146 to 0.02109, saving model to mymodel.h5\n",
      "95/95 [==============================] - 1s 8ms/step - loss: 0.0084 - val_loss: 0.0211\n",
      "Epoch 6/50\n",
      "90/95 [===========================>..] - ETA: 0s - loss: 0.0072\n",
      "Epoch 6: val_loss did not improve from 0.02109\n",
      "95/95 [==============================] - 1s 7ms/step - loss: 0.0079 - val_loss: 0.0230\n",
      "Epoch 7/50\n",
      "89/95 [===========================>..] - ETA: 0s - loss: 0.0079\n",
      "Epoch 7: val_loss did not improve from 0.02109\n",
      "95/95 [==============================] - 1s 7ms/step - loss: 0.0088 - val_loss: 0.0220\n",
      "Epoch 8/50\n",
      "89/95 [===========================>..] - ETA: 0s - loss: 0.0066\n",
      "Epoch 8: val_loss did not improve from 0.02109\n",
      "95/95 [==============================] - 1s 7ms/step - loss: 0.0079 - val_loss: 0.0213\n",
      "Epoch 8: early stopping\n"
     ]
    }
   ],
   "source": [
    "history = model.fit(x=X_train,\n",
    "                    y=y_train,\n",
    "                    epochs=50,\n",
    "                    batch_size=1,\n",
    "                    validation_data=(X_test, y_test),\n",
    "                    callbacks= callbacks,\n",
    "                    shuffle=False)"
   ]
  },
  {
   "cell_type": "code",
   "execution_count": 53,
   "id": "962692b9",
   "metadata": {},
   "outputs": [
    {
     "data": {
      "image/png": "[encoded data removed]",
      "text/plain": [
       "<Figure size 1440x360 with 1 Axes>"
      ]
     },
     "metadata": {
      "needs_background": "light"
     },
     "output_type": "display_data"
    }
   ],
   "source": [
    "# Grafik oluşturmak istersek eğer;\n",
    "\n",
    "plt.figure(figsize=(20,5))\n",
    "plt.subplot(1, 2, 2)\n",
    "plt.plot(history.history[\"loss\"], label=\"Training_loss\")\n",
    "plt.plot(history.history[\"val_loss\"], label=\"Validation_loss\")\n",
    "plt.legend(loc=\"upper right\")\n",
    "plt.xlabel(\"Epoch\", fontsize=16)\n",
    "plt.ylabel(\"Loss\", fontsize=16)\n",
    "plt.ylim([0, max(plt.ylim())])\n",
    "plt.title(\"Training and Validation Loss\", fontsize=16)\n",
    "plt.show()"
   ]
  },
  {
   "cell_type": "markdown",
   "id": "2e00a965",
   "metadata": {},
   "source": [
    "## 5)Evaluation(Değerlendirme)"
   ]
  },
  {
   "cell_type": "code",
   "execution_count": 54,
   "id": "4b80c46d",
   "metadata": {},
   "outputs": [
    {
     "name": "stdout",
     "output_type": "stream",
     "text": [
      "47/47 [==============================] - 0s 4ms/step - loss: 0.0213\n",
      "/nTest loss: 2.1%\n"
     ]
    }
   ],
   "source": [
    "loss = model.evaluate(X_test, y_test, batch_size=1)\n",
    "print(\"/nTest loss: %.1f%%\" % (100.0 * loss))"
   ]
  },
  {
   "cell_type": "code",
   "execution_count": 55,
   "id": "d8ccf0e6",
   "metadata": {},
   "outputs": [
    {
     "name": "stdout",
     "output_type": "stream",
     "text": [
      "3/3 [==============================] - 1s 5ms/step\n",
      "2/2 [==============================] - 0s 6ms/step\n"
     ]
    }
   ],
   "source": [
    "# Tahmin etme işlemlerine geçiyoruz\n",
    "\n",
    "train_predict = model.predict(X_train)\n",
    "test_predict = model.predict(X_test)"
   ]
  },
  {
   "cell_type": "code",
   "execution_count": 56,
   "id": "33820af9",
   "metadata": {},
   "outputs": [],
   "source": [
    "# Modelleme öncesi yaptığımız standartlaştırma işlemini geriye çeviriyoruz.Daha sağlıklı bir kıyaslama imkanı sağlar.\n",
    "\n",
    "train_predict = scaler_train.inverse_transform(train_predict)\n",
    "test_predict = scaler_test.inverse_transform(test_predict)\n",
    "\n",
    "y_train = scaler_train.inverse_transform(y_train)\n",
    "y_test = scaler_test.inverse_transform(y_test)"
   ]
  },
  {
   "cell_type": "code",
   "execution_count": 58,
   "id": "d5314ed7",
   "metadata": {},
   "outputs": [],
   "source": [
    "# Train veri setine ait RMSE değeri\n",
    "\n",
    "train_rmse= np.sqrt(mean_squared_error(y_train,train_predict))"
   ]
  },
  {
   "cell_type": "code",
   "execution_count": 60,
   "id": "0b4f199d",
   "metadata": {},
   "outputs": [],
   "source": [
    "# Test veri setine ait RMSE değeri\n",
    "\n",
    "test_rmse= np.sqrt(mean_squared_error(y_test,test_predict))"
   ]
  },
  {
   "cell_type": "code",
   "execution_count": 61,
   "id": "bce0fbf1",
   "metadata": {},
   "outputs": [
    {
     "name": "stdout",
     "output_type": "stream",
     "text": [
      "Train RMSE: 22.82291603088379\n",
      "Test RMSE: 46.7946891784668\n"
     ]
    }
   ],
   "source": [
    "print(f\"Train RMSE: {train_rmse}\")\n",
    "print(f\"Test RMSE: {test_rmse}\")"
   ]
  },
  {
   "cell_type": "code",
   "execution_count": 62,
   "id": "f726139f",
   "metadata": {},
   "outputs": [
    {
     "data": {
      "text/html": [
       "<div>\n",
       "<style scoped>\n",
       "    .dataframe tbody tr th:only-of-type {\n",
       "        vertical-align: middle;\n",
       "    }\n",
       "\n",
       "    .dataframe tbody tr th {\n",
       "        vertical-align: top;\n",
       "    }\n",
       "\n",
       "    .dataframe thead th {\n",
       "        text-align: right;\n",
       "    }\n",
       "</style>\n",
       "<table border=\"1\" class=\"dataframe\">\n",
       "  <thead>\n",
       "    <tr style=\"text-align: right;\">\n",
       "      <th></th>\n",
       "      <th>count</th>\n",
       "      <th>mean</th>\n",
       "      <th>std</th>\n",
       "      <th>min</th>\n",
       "      <th>25%</th>\n",
       "      <th>50%</th>\n",
       "      <th>75%</th>\n",
       "      <th>max</th>\n",
       "    </tr>\n",
       "  </thead>\n",
       "  <tbody>\n",
       "    <tr>\n",
       "      <th>Passengers</th>\n",
       "      <td>144.0</td>\n",
       "      <td>280.298611</td>\n",
       "      <td>119.966317</td>\n",
       "      <td>104.0</td>\n",
       "      <td>180.0</td>\n",
       "      <td>265.5</td>\n",
       "      <td>360.5</td>\n",
       "      <td>622.0</td>\n",
       "    </tr>\n",
       "  </tbody>\n",
       "</table>\n",
       "</div>"
      ],
      "text/plain": [
       "            count        mean         std    min    25%    50%    75%    max\n",
       "Passengers  144.0  280.298611  119.966317  104.0  180.0  265.5  360.5  622.0"
      ]
     },
     "execution_count": 62,
     "metadata": {},
     "output_type": "execute_result"
    }
   ],
   "source": [
    "df.describe().T"
   ]
  },
  {
   "cell_type": "code",
   "execution_count": 69,
   "id": "e786c3a0",
   "metadata": {},
   "outputs": [],
   "source": [
    "# Dikkat edilmesi gereken konu train setinin ilk gözleminden önce bir değerin olmamasıdır.\n",
    "\n",
    "train_prediction_df = result_df[lookback:position]\n",
    "train_prediction_df[\"Predicted\"] = train_predict"
   ]
  },
  {
   "cell_type": "code",
   "execution_count": 70,
   "id": "037923a7",
   "metadata": {},
   "outputs": [
    {
     "data": {
      "text/html": [
       "<div>\n",
       "<style scoped>\n",
       "    .dataframe tbody tr th:only-of-type {\n",
       "        vertical-align: middle;\n",
       "    }\n",
       "\n",
       "    .dataframe tbody tr th {\n",
       "        vertical-align: top;\n",
       "    }\n",
       "\n",
       "    .dataframe thead th {\n",
       "        text-align: right;\n",
       "    }\n",
       "</style>\n",
       "<table border=\"1\" class=\"dataframe\">\n",
       "  <thead>\n",
       "    <tr style=\"text-align: right;\">\n",
       "      <th></th>\n",
       "      <th>Passengers</th>\n",
       "      <th>Predicted</th>\n",
       "    </tr>\n",
       "    <tr>\n",
       "      <th>Month</th>\n",
       "      <th></th>\n",
       "      <th></th>\n",
       "    </tr>\n",
       "  </thead>\n",
       "  <tbody>\n",
       "    <tr>\n",
       "      <th>1949-02-01</th>\n",
       "      <td>118.0</td>\n",
       "      <td>125.225380</td>\n",
       "    </tr>\n",
       "    <tr>\n",
       "      <th>1949-03-01</th>\n",
       "      <td>132.0</td>\n",
       "      <td>128.395477</td>\n",
       "    </tr>\n",
       "    <tr>\n",
       "      <th>1949-04-01</th>\n",
       "      <td>129.0</td>\n",
       "      <td>139.132675</td>\n",
       "    </tr>\n",
       "    <tr>\n",
       "      <th>1949-05-01</th>\n",
       "      <td>121.0</td>\n",
       "      <td>136.661316</td>\n",
       "    </tr>\n",
       "    <tr>\n",
       "      <th>1949-06-01</th>\n",
       "      <td>135.0</td>\n",
       "      <td>130.566559</td>\n",
       "    </tr>\n",
       "  </tbody>\n",
       "</table>\n",
       "</div>"
      ],
      "text/plain": [
       "            Passengers   Predicted\n",
       "Month                             \n",
       "1949-02-01       118.0  125.225380\n",
       "1949-03-01       132.0  128.395477\n",
       "1949-04-01       129.0  139.132675\n",
       "1949-05-01       121.0  136.661316\n",
       "1949-06-01       135.0  130.566559"
      ]
     },
     "execution_count": 70,
     "metadata": {},
     "output_type": "execute_result"
    }
   ],
   "source": [
    "train_prediction_df.head()"
   ]
  },
  {
   "cell_type": "code",
   "execution_count": 71,
   "id": "aea0c11c",
   "metadata": {},
   "outputs": [
    {
     "data": {
      "text/html": [
       "<div>\n",
       "<style scoped>\n",
       "    .dataframe tbody tr th:only-of-type {\n",
       "        vertical-align: middle;\n",
       "    }\n",
       "\n",
       "    .dataframe tbody tr th {\n",
       "        vertical-align: top;\n",
       "    }\n",
       "\n",
       "    .dataframe thead th {\n",
       "        text-align: right;\n",
       "    }\n",
       "</style>\n",
       "<table border=\"1\" class=\"dataframe\">\n",
       "  <thead>\n",
       "    <tr style=\"text-align: right;\">\n",
       "      <th></th>\n",
       "      <th>Passengers</th>\n",
       "      <th>Predicted</th>\n",
       "    </tr>\n",
       "    <tr>\n",
       "      <th>Month</th>\n",
       "      <th></th>\n",
       "      <th></th>\n",
       "    </tr>\n",
       "  </thead>\n",
       "  <tbody>\n",
       "    <tr>\n",
       "      <th>1957-02-01</th>\n",
       "      <td>301.0</td>\n",
       "      <td>325.961761</td>\n",
       "    </tr>\n",
       "    <tr>\n",
       "      <th>1957-03-01</th>\n",
       "      <td>356.0</td>\n",
       "      <td>319.630951</td>\n",
       "    </tr>\n",
       "    <tr>\n",
       "      <th>1957-04-01</th>\n",
       "      <td>348.0</td>\n",
       "      <td>362.465027</td>\n",
       "    </tr>\n",
       "    <tr>\n",
       "      <th>1957-05-01</th>\n",
       "      <td>355.0</td>\n",
       "      <td>354.664001</td>\n",
       "    </tr>\n",
       "    <tr>\n",
       "      <th>1957-06-01</th>\n",
       "      <td>422.0</td>\n",
       "      <td>361.489929</td>\n",
       "    </tr>\n",
       "  </tbody>\n",
       "</table>\n",
       "</div>"
      ],
      "text/plain": [
       "            Passengers   Predicted\n",
       "Month                             \n",
       "1957-02-01       301.0  325.961761\n",
       "1957-03-01       356.0  319.630951\n",
       "1957-04-01       348.0  362.465027\n",
       "1957-05-01       355.0  354.664001\n",
       "1957-06-01       422.0  361.489929"
      ]
     },
     "execution_count": 71,
     "metadata": {},
     "output_type": "execute_result"
    }
   ],
   "source": [
    "test_prediction_df = result_df[position+lookback:]\n",
    "test_prediction_df[\"Predicted\"] = test_predict\n",
    "test_prediction_df.head()"
   ]
  },
  {
   "cell_type": "code",
   "execution_count": 72,
   "id": "5e34930c",
   "metadata": {},
   "outputs": [
    {
     "data": {
      "image/png": "[encoded data removed]",
      "text/plain": [
       "<Figure size 1008x360 with 1 Axes>"
      ]
     },
     "metadata": {
      "needs_background": "light"
     },
     "output_type": "display_data"
    }
   ],
   "source": [
    "# Train ve Test Tahminlerini ayrı ayrı görselleştirme işlemi\n",
    "\n",
    "plt.figure(figsize=(14,5))\n",
    "plt.plot(result_df, label=\"Real Number of Pasengers\")\n",
    "plt.plot(train_prediction_df[\"Predicted\"], color = \"blue\", label = \"Train Predicted Number of Passengers \")\n",
    "plt.plot(test_prediction_df[\"Predicted\"], color = \"red\", label = \"Test Predicted Number of Passengers \")\n",
    "plt.xlabel(\"Time\")\n",
    "plt.ylabel(\"Number of Passengers\")\n",
    "plt.title(\"Number of Passengers Prediction\")\n",
    "plt.legend()\n",
    "plt.show()"
   ]
  },
  {
   "cell_type": "code",
   "execution_count": null,
   "id": "7ce316ea",
   "metadata": {},
   "outputs": [],
   "source": []
  }
 ],
 "metadata": {
  "kernelspec": {
   "display_name": "Python 3 (ipykernel)",
   "language": "python",
   "name": "python3"
  },
  "language_info": {
   "codemirror_mode": {
    "name": "ipython",
    "version": 3
   },
   "file_extension": ".py",
   "mimetype": "text/x-python",
   "name": "python",
   "nbconvert_exporter": "python",
   "pygments_lexer": "ipython3",
   "version": "3.9.12"
  }
 },
 "nbformat": 4,
 "nbformat_minor": 5
}
